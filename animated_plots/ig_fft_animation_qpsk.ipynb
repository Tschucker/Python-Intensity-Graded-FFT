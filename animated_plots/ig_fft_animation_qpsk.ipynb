{
 "cells": [
  {
   "cell_type": "markdown",
   "metadata": {},
   "source": [
    "# Intensity Graded FFT Animation with QPSK"
   ]
  },
  {
   "cell_type": "code",
   "execution_count": 1,
   "metadata": {},
   "outputs": [],
   "source": [
    "import numpy as np\n",
    "from matplotlib import pyplot as plt\n",
    "from matplotlib.animation import FuncAnimation\n",
    "import math\n",
    "from IPython.display import HTML, Image"
   ]
  },
  {
   "cell_type": "code",
   "execution_count": 2,
   "metadata": {},
   "outputs": [],
   "source": [
    "#Test QPSK Signal\n",
    "num_symbols = 256*10240\n",
    "sps = 2\n",
    "\n",
    "x_int = np.random.randint(0, 4, num_symbols) # 0 to 3\n",
    "\n",
    "x_int = np.repeat(x_int, sps, axis=0)\n",
    "\n",
    "x_degrees = x_int*360/4.0 + 45 # 45, 135, 225, 315 degrees\n",
    "x_radians = x_degrees*np.pi/180.0 # sin() and cos() takes in radians\n",
    "x_symbols = np.cos(x_radians) + 1j*np.sin(x_radians) # this produces our QPSK complex symbols\n",
    "\n",
    "# Create our raised-cosine filter\n",
    "num_taps = 101\n",
    "beta = 0.35\n",
    "Ts = sps # Assume sample rate is 1 Hz, so sample period is 1, so *symbol* period is 8\n",
    "t = np.arange(-51, 52) # remember it's not inclusive of final number\n",
    "h = np.sinc(t/Ts) * np.cos(np.pi*beta*t/Ts) / (1 - (2*beta*t/Ts)**2)\n",
    "\n",
    "# Filter our signal, in order to apply the pulse shaping\n",
    "x_shaped = np.convolve(x_symbols, h)\n",
    "\n",
    "n = (np.random.randn(len(x_shaped)) + 1j*np.random.randn(len(x_shaped)))/np.sqrt(2) # AWGN with unity power\n",
    "noise_power = 0.001\n",
    "r = x_shaped + n * np.sqrt(noise_power)\n",
    "\n",
    "samples = r"
   ]
  },
  {
   "cell_type": "code",
   "execution_count": 3,
   "metadata": {},
   "outputs": [],
   "source": [
    "#Animate function that interates over fft data\n",
    "def animate(i, im, norm_fft_array, mag_steps, fft_len, fft_div): \n",
    "    mag_step = 1/mag_steps\n",
    "    \n",
    "    if i == 0:\n",
    "        hitmap_array = im.get_array()*np.exp(-10)\n",
    "        \n",
    "    else:\n",
    "        hitmap_array = im.get_array()*np.exp(-0.04)\n",
    "\n",
    "    for m in range(fft_len):\n",
    "        hit_mag = int(norm_fft_array[i][m]/mag_step)\n",
    "        hitmap_array[hit_mag][int(m/fft_div)] = hitmap_array[hit_mag][int(m/fft_div)] + .5\n",
    "\n",
    "    #hitmap_array_db = 10.0 * np.log10(hitmap_array) \n",
    "    \n",
    "    im.set_array(hitmap_array)\n",
    "    return [im]\n",
    "\n",
    "#Function\n",
    "def fft_intensity_animate(samples: np.ndarray, fft_len: int = 256, fft_div: int = 2, mag_steps: int = 100):\n",
    "    \n",
    "    num_ffts = math.floor(len(samples)/fft_len)\n",
    "    \n",
    "    fft_array = []\n",
    "    for i in range(num_ffts):\n",
    "        temp = np.fft.fftshift(np.fft.fft(samples[i*fft_len:(i+1)*fft_len]))\n",
    "        temp_mag = 20.0 * np.log10(np.abs(temp))\n",
    "        fft_array.append(temp_mag)\n",
    "        \n",
    "    max_mag = np.amax(fft_array)\n",
    "    min_mag = np.abs(np.amin(fft_array))\n",
    "    \n",
    "    norm_fft_array = fft_array\n",
    "    for i in range(num_ffts):\n",
    "        norm_fft_array[i] = (fft_array[i]+min_mag)/(max_mag+min_mag) \n",
    "    \n",
    "    #animation place holder\n",
    "    fig = plt.figure()\n",
    "    a = np.random.random((mag_steps+1,int(fft_len/fft_div)))\n",
    "    im = plt.imshow(a, origin='lower', cmap='plasma', interpolation='bilinear')\n",
    "    \n",
    "    #compute animation\n",
    "    anim = FuncAnimation(fig, animate, frames=1000, fargs = (im,norm_fft_array,mag_steps,fft_len,fft_div), interval=1, blit=True)\n",
    "    \n",
    "    return(anim)"
   ]
  },
  {
   "cell_type": "markdown",
   "metadata": {},
   "source": [
    "# Animation"
   ]
  },
  {
   "cell_type": "code",
   "execution_count": 4,
   "metadata": {},
   "outputs": [
    {
     "data": {
      "image/png": "[encoded data removed]",
      "text/plain": [
       "<Figure size 432x288 with 1 Axes>"
      ]
     },
     "metadata": {
      "needs_background": "light"
     },
     "output_type": "display_data"
    }
   ],
   "source": [
    "# Test parameters\n",
    "fft_len = 1024\n",
    "fft_div = 2\n",
    "mag_steps = 400\n",
    "\n",
    "anim = fft_intensity_animate(samples, fft_len, fft_div, mag_steps)"
   ]
  },
  {
   "cell_type": "markdown",
   "metadata": {},
   "source": [
    "# Save Animation"
   ]
  },
  {
   "cell_type": "code",
   "execution_count": 5,
   "metadata": {},
   "outputs": [],
   "source": [
    "anim.save('fft_qpsk_animation.mp4', fps=30, extra_args=['-vcodec', 'libx264'])"
   ]
  },
  {
   "cell_type": "markdown",
   "metadata": {},
   "source": [
    "## Optional GIF Animation"
   ]
  },
  {
   "cell_type": "code",
   "execution_count": 6,
   "metadata": {},
   "outputs": [],
   "source": [
    "#anim.save('fft_animation.gif', fps=30, writer='pillow')\n",
    "#Image(url='fft_animation.gif')"
   ]
  }
 ],
 "metadata": {
  "kernelspec": {
   "display_name": "Python 3",
   "language": "python",
   "name": "python3"
  },
  "language_info": {
   "codemirror_mode": {
    "name": "ipython",
    "version": 3
   },
   "file_extension": ".py",
   "mimetype": "text/x-python",
   "name": "python",
   "nbconvert_exporter": "python",
   "pygments_lexer": "ipython3",
   "version": "3.7.6"
  }
 },
 "nbformat": 4,
 "nbformat_minor": 4
}
